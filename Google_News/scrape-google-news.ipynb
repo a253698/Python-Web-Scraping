{
 "cells": [
  {
   "cell_type": "code",
   "execution_count": 218,
   "id": "d99358b1",
   "metadata": {},
   "outputs": [],
   "source": [
    "# https://pypi.org/project/GoogleNews/\n",
    "# pip install GoogleNews\n",
    "from GoogleNews import GoogleNews \n",
    "import pandas as pd"
   ]
  },
  {
   "cell_type": "code",
   "execution_count": 219,
   "id": "d39bb384",
   "metadata": {},
   "outputs": [],
   "source": [
    "#search veriable\n",
    "news_language = 'en'\n",
    "news_period = '7d'\n",
    "news_region = 'US'\n",
    "news_start = '01/01/2022'\n",
    "news_end = '05/11/2022'\n",
    "keyword = 'COVID'"
   ]
  },
  {
   "cell_type": "code",
   "execution_count": 220,
   "id": "c5876023",
   "metadata": {},
   "outputs": [
    {
     "name": "stdout",
     "output_type": "stream",
     "text": [
      "                                               title  \\\n",
      "0  Beijing races to contain 'urgent and grim' Cov...   \n",
      "1  Beijing kicks off mass testing after spike in ...   \n",
      "2  China’s Covid Lockdowns Stir Memories of a Pla...   \n",
      "3  Coronavirus (COVID-19) Update: FDA Takes Key A...   \n",
      "4  Fact Sheet: Biden Administration Launches COVI...   \n",
      "5  U.S. reports over 1 million new daily Covid ca...   \n",
      "6  Fact Sheet: The Biden Administration to Begin ...   \n",
      "7  Supply Chain Woes Could Worsen as China Impose...   \n",
      "8  Beijing shuts Universal Studios, bans restaura...   \n",
      "9  Coronavirus (COVID-19) Update: FDA to Hold Adv...   \n",
      "\n",
      "                             media         date                   datetime  \\\n",
      "0                              CNN  2 weeks ago 2022-04-28 17:50:32.190796   \n",
      "1                              BBC  2 weeks ago 2022-04-28 17:50:32.200562   \n",
      "2               The New York Times  2 weeks ago 2022-04-28 17:50:32.209378   \n",
      "3  US Food and Drug Administration  an 31, 2022                        NaT   \n",
      "4                  The White House  1 month ago 2022-04-12 17:50:32.227215   \n",
      "5                             CNBC   an 4, 2022                        NaT   \n",
      "6                  The White House  an 14, 2022                        NaT   \n",
      "7               The New York Times  an 16, 2022                        NaT   \n",
      "8                              CNN   1 week ago 2022-05-05 17:50:32.241202   \n",
      "9  US Food and Drug Administration  1 month ago 2022-04-12 17:50:32.251704   \n",
      "\n",
      "                                                desc  \\\n",
      "0  Hong Kong (CNN) Beijing is racing to track a C...   \n",
      "1  The Chinese capital Beijing has kicked off mas...   \n",
      "2  Covid Lockdowns Revive the Ghosts of a Planned...   \n",
      "3  The vaccine has been known as the Moderna COVI...   \n",
      "4  Website will Feature a New Test-to-Treat Locat...   \n",
      "5  The U.S. has reported a record single-day numb...   \n",
      "6  Testing is an important tool to help mitigate ...   \n",
      "7  Supply Chain Woes Could Worsen as China Impose...   \n",
      "8  But there is little holiday spirit this year, ...   \n",
      "9  “Now is the time to discuss the need for futur...   \n",
      "\n",
      "                                                link  \\\n",
      "0  https://www.cnn.com/2022/04/24/china/beijing-c...   \n",
      "1  https://www.bbc.com/news/world-asia-china-6121...   \n",
      "2  https://www.nytimes.com/2022/04/25/business/ch...   \n",
      "3  https://www.fda.gov/news-events/press-announce...   \n",
      "4  https://www.whitehouse.gov/briefing-room/state...   \n",
      "5  https://www.cnbc.com/2022/01/04/us-counts-over...   \n",
      "6  https://www.whitehouse.gov/briefing-room/state...   \n",
      "7  https://www.nytimes.com/2022/01/16/business/ec...   \n",
      "8  https://www.cnn.com/2022/05/01/china/beijing-c...   \n",
      "9  https://www.fda.gov/news-events/press-announce...   \n",
      "\n",
      "                                                 img  \n",
      "0  data:image/gif;base64,R0lGODlhAQABAIAAAP//////...  \n",
      "1  data:image/gif;base64,R0lGODlhAQABAIAAAP//////...  \n",
      "2  data:image/gif;base64,R0lGODlhAQABAIAAAP//////...  \n",
      "3  data:image/gif;base64,R0lGODlhAQABAIAAAP//////...  \n",
      "4  data:image/gif;base64,R0lGODlhAQABAIAAAP//////...  \n",
      "5  data:image/gif;base64,R0lGODlhAQABAIAAAP//////...  \n",
      "6  data:image/gif;base64,R0lGODlhAQABAIAAAP//////...  \n",
      "7  data:image/gif;base64,R0lGODlhAQABAIAAAP//////...  \n",
      "8  data:image/gif;base64,R0lGODlhAQABAIAAAP//////...  \n",
      "9  data:image/gif;base64,R0lGODlhAQABAIAAAP//////...  \n"
     ]
    },
    {
     "name": "stderr",
     "output_type": "stream",
     "text": [
      "/Library/Frameworks/Python.framework/Versions/3.10/lib/python3.10/site-packages/dateparser/date_parser.py:35: PytzUsageWarning: The localize method is no longer necessary, as this time zone supports the fold attribute (PEP 495). For more details on migrating to a PEP 495-compliant implementation, see https://pytz-deprecation-shim.readthedocs.io/en/latest/migration.html\n",
      "  date_obj = stz.localize(date_obj)\n"
     ]
    }
   ],
   "source": [
    "#search Google News\n",
    "#period = news_period, \n",
    "#column include title, media, date, datetime, desc, link, img\n",
    "news = GoogleNews(lang = news_language, region = news_region, start = news_start, end = news_end)\n",
    "news.search(keyword)\n",
    "results = news.result()\n",
    "data = pd.DataFrame.from_dict(results)\n",
    "#data = data.drop(columns=[\"img\"])\n",
    "data.head()      \n",
    "\n",
    "print(data)\n",
    "\n",
    "data.to_csv('google_news_data.csv')\n",
    "\n",
    "#for result in results:\n",
    "    #print(\"News Title : \",result[\"title\"])\n",
    "    #print(\"Media : \",result[\"media\"])\n",
    "    #print(\"News : \",result[\"desc\"])\n",
    "    #print(\"Detailed news : \",result[\"link\"])       "
   ]
  },
  {
   "cell_type": "code",
   "execution_count": null,
   "id": "e2a251a7",
   "metadata": {},
   "outputs": [],
   "source": []
  }
 ],
 "metadata": {
  "interpreter": {
   "hash": "7e1998ff7f8aa20ada591c520b972326324e5ea05489af9e422744c7c09f6dad"
  },
  "kernelspec": {
   "display_name": "Python 3.10.2 64-bit",
   "language": "python",
   "name": "python3"
  },
  "language_info": {
   "codemirror_mode": {
    "name": "ipython",
    "version": 3
   },
   "file_extension": ".py",
   "mimetype": "text/x-python",
   "name": "python",
   "nbconvert_exporter": "python",
   "pygments_lexer": "ipython3",
   "version": "3.10.2"
  }
 },
 "nbformat": 4,
 "nbformat_minor": 5
}
