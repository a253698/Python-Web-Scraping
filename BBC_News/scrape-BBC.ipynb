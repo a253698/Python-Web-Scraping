{
 "cells": [
  {
   "cell_type": "code",
   "execution_count": 102,
   "id": "b4aad807",
   "metadata": {},
   "outputs": [],
   "source": [
    "#Beautiful Soup is a Python package for parsing HTML and XML documents \n",
    "#(including having malformed markup, i.e. non-closed tags, so named after tag soup). \n",
    "#$ pip install beautifulsoup4\n",
    "from bs4 import BeautifulSoup\n",
    "import requests\n",
    "#import pandas -> $ pip install pandas (to export to CSV file) \n",
    "import pandas as pd"
   ]
  },
  {
   "cell_type": "code",
   "execution_count": 103,
   "id": "dd44fcc7",
   "metadata": {},
   "outputs": [],
   "source": [
    "# Creates a header\n",
    "# User-Agent request header is a characteristic string that lets servers and network peers identify the application, \n",
    "# operating system, vendor, and/or version of the requesting user agent.\n",
    "# browser sniffing and making sure that the browsers are not blocked from getting content they can support.\n",
    "# simulate Firefox\n",
    "headers = {'User-agent': 'Mozilla/5.0'}"
   ]
  },
  {
   "cell_type": "code",
   "execution_count": 104,
   "id": "2a76f5b2",
   "metadata": {},
   "outputs": [],
   "source": [
    "# Requests the webpage\n",
    "request = requests.get('https://www.bbc.com/news', headers=headers)\n",
    "html = request.content\n",
    "\n",
    "# Create beautifulsoup parser \n",
    "soup = BeautifulSoup(html, 'html.parser')\n",
    "\n",
    "#single line\n",
    "#print(soup)\n",
    "\n",
    "#print(soup.prettify())\n",
    "\n",
    "BBC_news_columns = ['news_title']\n",
    "BBC_news_data = []"
   ]
  },
  {
   "cell_type": "code",
   "execution_count": 105,
   "id": "15aa939a",
   "metadata": {},
   "outputs": [
    {
     "name": "stdout",
     "output_type": "stream",
     "text": [
      "1 : n korea in lockdown with first official covid cases \n",
      "2 : russia pushed back from kharkiv - front line report \n",
      "3 : us democrats' bid for federal abortion law fails \n",
      "4 : uk agrees security deals with finland and sweden \n",
      "5 : 'no idea' passenger lands plane as pilot falls ill \n",
      "6 : a new composition for 50 years of the rothko chapel \n",
      "7 : sri lanka leader's speech criticised as crisis grows \n",
      "8 : california's under-21 gun ban struck down by court \n",
      "9 : covid mask rules relaxed for eu air travel \n",
      "10 : fierce us abortion debate spills over into canada \n",
      "11 : cardinal, 90, arrested under hong kong security law \n",
      "12 : american journalist killed during israeli raid \n",
      "13 : adidas sports bra adverts banned over bare breasts \n",
      "14 : google translate adds 24 new languages \n",
      "15 : snake island and battle for control in black sea \n",
      "16 : security pacts and eurovision joy - ukraine war round up \n",
      "17 : kherson - will it be annexed by russia? \n",
      "18 : don’t underestimate russian cyber-threat, warns us \n",
      "19 : putin preparing for long war - us intelligence \n",
      "20 : why black evangelical women could decide who rules brazil \n",
      "21 : passersby rush to stop moving car with ill driver \n",
      "22 : ‘if i die no-one will know’: hong kong’s 'cage men'  <----- KEYWORD\n",
      "23 : oscar nominee glues hand to starbucks counter in protest \n",
      "24 : 'a life with pain is still a life' \n",
      "25 : apple to discontinue the ipod after 21 years \n",
      "26 : shireen abu aqla: face and voice of war and peace \n",
      "27 : 'if i see a russian soldier, i know what i'm going to do'  <----- KEYWORD\n",
      "28 : the 'media warriors' calling for death on facebook \n",
      "29 : what’s threatening india's online gaming industry \n",
      "30 : why rioters attacked a museum in sri lanka \n",
      "31 : tom hiddleston: why we all need monsters and myths \n",
      "32 : disabled children need playground rethink, says uk charity \n",
      "33 : the earth 'blobs' no one understands \n",
      "34 : the toxic 'cut-throat' work problem \n",
      "35 : the single mother with a michelin star \n",
      "36 : how nature can re-boot our minds \n",
      "37 : how junk revealed life on soviet bases \n",
      "38 : the offices turning into luxury flats \n",
      "39 : england's criminal mastermind of £650m \n",
      "1 : ‘if i die no-one will know’: hong kong’s 'cage men'\n",
      "2 : 'if i see a russian soldier, i know what i'm going to do'\n"
     ]
    }
   ],
   "source": [
    "# create the list to store news\n",
    "def bbc_news_scraper(keyword):\n",
    "    news_list = []\n",
    "\n",
    "    # Finds all the headers in BBC Home -> all inside h3\n",
    "    for h in soup.findAll('h3', class_='gs-c-promo-heading__title'):\n",
    "        #save it in lower case for later process\n",
    "        news_titles = h.contents[0].lower()\n",
    "\n",
    "        #avoid duplicate and avoid ad that include keyword 'bbc'\n",
    "        if news_titles not in news_list:\n",
    "            if 'bbc' not in news_titles:\n",
    "                news_list.append(news_titles)\n",
    "                BBC_news_data.append([news_titles])\n",
    "                df = pd.DataFrame(BBC_news_data, columns=BBC_news_columns)\n",
    "                df.to_csv('BBC_news_data.csv')\n",
    "                \n",
    "    \n",
    "    #print(news_list)\n",
    "    #count how many time the keyword appear\n",
    "    number_of_news = 0\n",
    "    #list of keyword in the title\n",
    "    keyword_list = []\n",
    "\n",
    "    # Goes through the list and searches for the keyword\n",
    "    # enumerate = count, have a number of new after every news title\n",
    "    for i, title in enumerate(news_list):\n",
    "        text = ''\n",
    "        if keyword.lower() in title:\n",
    "            text = ' <----- KEYWORD'\n",
    "            number_of_news += 1\n",
    "            keyword_list.append(title)\n",
    "        print(i + 1, ':', title, text)\n",
    "\n",
    "    # Prints the titles of the articles that contain the keywords\n",
    "    #print(f'\\n--------- Total mentions of \"{keyword}\" = {number_of_news} ---------')\n",
    "    for i, title in enumerate(keyword_list):\n",
    "        print(i + 1, ':', title)\n",
    "\n",
    "bbc_news_scraper('die')\n"
   ]
  },
  {
   "cell_type": "code",
   "execution_count": null,
   "id": "3b131cd8",
   "metadata": {},
   "outputs": [],
   "source": [
    "\n"
   ]
  }
 ],
 "metadata": {
  "interpreter": {
   "hash": "5ee95ae731ee871b128d1eb4710bf7603e14e143a5528d5436db36c08bf6ff1e"
  },
  "kernelspec": {
   "display_name": "Python 3.9.7 ('base')",
   "language": "python",
   "name": "python3"
  },
  "language_info": {
   "codemirror_mode": {
    "name": "ipython",
    "version": 3
   },
   "file_extension": ".py",
   "mimetype": "text/x-python",
   "name": "python",
   "nbconvert_exporter": "python",
   "pygments_lexer": "ipython3",
   "version": "3.9.7"
  }
 },
 "nbformat": 4,
 "nbformat_minor": 5
}
