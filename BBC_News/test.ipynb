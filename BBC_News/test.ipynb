{
 "cells": [
  {
   "cell_type": "code",
   "execution_count": 9,
   "metadata": {},
   "outputs": [],
   "source": [
    "from bs4 import BeautifulSoup "
   ]
  },
  {
   "cell_type": "code",
   "execution_count": 10,
   "metadata": {},
   "outputs": [
    {
     "name": "stdout",
     "output_type": "stream",
     "text": [
      "<html>\n",
      " <head>\n",
      "  <title>\n",
      "   Your Title Here\n",
      "  </title>\n",
      " </head>\n",
      " <body bgcolor=\"FFFFFF\">\n",
      "  <center>\n",
      "   <img align=\"BOTTOM\" src=\"clouds.jpg\"/>\n",
      "  </center>\n",
      "  <hr/>\n",
      "  <a href=\"http://somegreatsite.com\">\n",
      "   Link Name\n",
      "  </a>\n",
      "  is a link to another nifty site\n",
      "  <h1>\n",
      "   This is a Header\n",
      "  </h1>\n",
      "  <h2>\n",
      "   This is a Medium Header\n",
      "  </h2>\n",
      "  Send me mail at\n",
      "  <a href=\"mailto:support@yourcompany.com\">\n",
      "   support@yourcompany.com\n",
      "  </a>\n",
      "  .\n",
      "  <p>\n",
      "   This is a new paragraph!\n",
      "   <p>\n",
      "    <b color=\"red\">\n",
      "     This is a new paragraph!\n",
      "    </b>\n",
      "    <br/>\n",
      "    <b>\n",
      "     <i>\n",
      "      This is a new sentence without a paragraph break, in bold italics.\n",
      "     </i>\n",
      "    </b>\n",
      "    <hr/>\n",
      "   </p>\n",
      "  </p>\n",
      " </body>\n",
      "</html>\n"
     ]
    }
   ],
   "source": [
    "with open(\"index.html\", \"r\") as f:\n",
    "    doc = BeautifulSoup(f, \"html.parser\")\n",
    "\n",
    "print(doc.prettify())"
   ]
  }
 ],
 "metadata": {
  "interpreter": {
   "hash": "5ee95ae731ee871b128d1eb4710bf7603e14e143a5528d5436db36c08bf6ff1e"
  },
  "kernelspec": {
   "display_name": "Python 3.9.7 ('base')",
   "language": "python",
   "name": "python3"
  },
  "language_info": {
   "codemirror_mode": {
    "name": "ipython",
    "version": 3
   },
   "file_extension": ".py",
   "mimetype": "text/x-python",
   "name": "python",
   "nbconvert_exporter": "python",
   "pygments_lexer": "ipython3",
   "version": "3.9.7"
  },
  "orig_nbformat": 4
 },
 "nbformat": 4,
 "nbformat_minor": 2
}
